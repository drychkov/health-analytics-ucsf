{
 "metadata": {
  "name": "",
  "signature": "sha256:47e7fa9e649f9b25589acf4c6c9aa1e22a5a4dd88a9a5a19d87851433ceafd69"
 },
 "nbformat": 3,
 "nbformat_minor": 0,
 "worksheets": [
  {
   "cells": [
    {
     "cell_type": "markdown",
     "metadata": {},
     "source": [
      "## Map Reduce Distributed"
     ]
    },
    {
     "cell_type": "code",
     "collapsed": false,
     "input": [],
     "language": "python",
     "metadata": {},
     "outputs": []
    },
    {
     "cell_type": "code",
     "collapsed": false,
     "input": [],
     "language": "python",
     "metadata": {},
     "outputs": []
    },
    {
     "cell_type": "markdown",
     "metadata": {},
     "source": [
      "##Lets get started\n",
      "\n",
      "Go to SparkHome/bin and run ./pyspark\n",
      "\n",
      "You should see:\n",
      "\n",
      "```\n",
      "Welcome to\n",
      "      ____              __\n",
      "     / __/__  ___ _____/ /__\n",
      "    _\\ \\/ _ \\/ _ `/ __/  '_/\n",
      "   /__ / .__/\\_,_/_/ /_/\\_\\   version 1.3.1\n",
      "      /_/\n",
      "\n",
      "Using Python version 2.7.6 (v2.7.6:3a1db0d2747e, Nov 10 2013 00:42:54)\n",
      "\n",
      "```\n"
     ]
    },
    {
     "cell_type": "code",
     "collapsed": false,
     "input": [
      "./pyspark\n",
      "chmod +x pyspark"
     ],
     "language": "python",
     "metadata": {},
     "outputs": []
    },
    {
     "cell_type": "code",
     "collapsed": false,
     "input": [
      "# print Spark version\n",
      "print(\"pyspark version:\" + str(sc.version))"
     ],
     "language": "python",
     "metadata": {},
     "outputs": []
    },
    {
     "cell_type": "markdown",
     "metadata": {},
     "source": [
      "## Once you run PySpark, it defines a Spark context object (sc) and a SQL conext (sqlCtx)\n",
      "#\n",
      "#"
     ]
    },
    {
     "cell_type": "code",
     "collapsed": false,
     "input": [
      "sc"
     ],
     "language": "python",
     "metadata": {},
     "outputs": []
    },
    {
     "cell_type": "markdown",
     "metadata": {},
     "source": []
    },
    {
     "cell_type": "markdown",
     "metadata": {},
     "source": [
      "\n"
     ]
    },
    {
     "cell_type": "code",
     "collapsed": false,
     "input": [
      "rdd=sc.parallelize(range(1,1000))\n",
      "rdd"
     ],
     "language": "python",
     "metadata": {},
     "outputs": []
    },
    {
     "cell_type": "code",
     "collapsed": false,
     "input": [],
     "language": "python",
     "metadata": {},
     "outputs": []
    },
    {
     "cell_type": "code",
     "collapsed": false,
     "input": [],
     "language": "python",
     "metadata": {},
     "outputs": []
    },
    {
     "cell_type": "code",
     "collapsed": false,
     "input": [
      "# take\n",
      "x = sc.parallelize([1,2,3,4,5])\n",
      "y = x.take(num = 3)\n",
      "print(y)"
     ],
     "language": "python",
     "metadata": {},
     "outputs": []
    },
    {
     "cell_type": "markdown",
     "metadata": {},
     "source": [
      "###rdd.collect()` converts a RDD object into a Python list on the host machine. i.e get all the values in an RDD\n",
      "#"
     ]
    },
    {
     "cell_type": "code",
     "collapsed": false,
     "input": [
      "# collect\n",
      "\n",
      "x = sc.parallelize([1,2,3,4,5])\n",
      "y = x.collect()\n",
      "print(y)  # not distributed"
     ],
     "language": "python",
     "metadata": {},
     "outputs": []
    },
    {
     "cell_type": "code",
     "collapsed": false,
     "input": [
      "# first\n",
      "y = x.first()\n",
      "print(y)"
     ],
     "language": "python",
     "metadata": {},
     "outputs": []
    },
    {
     "cell_type": "code",
     "collapsed": false,
     "input": [
      "# filter\n",
      "y = x.filter(lambda x: x%2 == 1)  # filters out even elements\n",
      "print(y.collect())"
     ],
     "language": "python",
     "metadata": {},
     "outputs": []
    },
    {
     "cell_type": "code",
     "collapsed": false,
     "input": [
      "# map\n",
      "y = x.map(lambda x: (x,x**2))\n",
      "y.collect()\n"
     ],
     "language": "python",
     "metadata": {},
     "outputs": []
    },
    {
     "cell_type": "code",
     "collapsed": false,
     "input": [
      "# flatMap\n",
      "x = sc.parallelize([1,2,3,4,5])\n",
      "y1 = x.map(lambda x: (x, 100*x, x**2))\n",
      "y2 = x.flatMap(lambda x: (x, 100*x, x**2))\n",
      "print(x.collect())\n",
      "print(y1.collect())\n",
      "print(y2.collect())"
     ],
     "language": "python",
     "metadata": {},
     "outputs": []
    },
    {
     "cell_type": "code",
     "collapsed": false,
     "input": [],
     "language": "python",
     "metadata": {},
     "outputs": []
    },
    {
     "cell_type": "code",
     "collapsed": false,
     "input": [
      "# reduce\n",
      "y = x.reduce(lambda obj, accumulated: obj + accumulated)  # computes a cumulative sum\n",
      "print(y)"
     ],
     "language": "python",
     "metadata": {},
     "outputs": []
    },
    {
     "cell_type": "code",
     "collapsed": false,
     "input": [
      "# reduceByKey\n",
      "x = sc.parallelize([('B',1),('B',2),('A',3),('A',4),('A',5)])\n",
      "y = x.reduceByKey(lambda v1, v2: v1 + v2)\n",
      "print(y.collect())"
     ],
     "language": "python",
     "metadata": {},
     "outputs": []
    },
    {
     "cell_type": "markdown",
     "metadata": {},
     "source": [
      "##MapReduce"
     ]
    },
    {
     "cell_type": "code",
     "collapsed": false,
     "input": [
      "x.map(lambda gender:(data[1],1).reduceByKey(lambda x,y:(x+y)).collect()"
     ],
     "language": "python",
     "metadata": {},
     "outputs": []
    },
    {
     "cell_type": "code",
     "collapsed": false,
     "input": [],
     "language": "python",
     "metadata": {},
     "outputs": []
    },
    {
     "cell_type": "code",
     "collapsed": false,
     "input": [
      "# union\n",
      "x = sc.parallelize(['A','A','B'])\n",
      "y = sc.parallelize(['D','C','A'])\n",
      "z = x.union(y)\n",
      "print(z.collect())"
     ],
     "language": "python",
     "metadata": {},
     "outputs": []
    },
    {
     "cell_type": "code",
     "collapsed": false,
     "input": [],
     "language": "python",
     "metadata": {},
     "outputs": []
    },
    {
     "cell_type": "markdown",
     "metadata": {},
     "source": [
      "##Reading from Files"
     ]
    },
    {
     "cell_type": "code",
     "collapsed": false,
     "input": [
      "inputTxt=sc.textFile(\"austen-sense.txt\")\n"
     ],
     "language": "python",
     "metadata": {},
     "outputs": []
    },
    {
     "cell_type": "markdown",
     "metadata": {},
     "source": [
      "##Each line is a separate element in the RDD"
     ]
    },
    {
     "cell_type": "code",
     "collapsed": false,
     "input": [
      "inputTxt.take(10)"
     ],
     "language": "python",
     "metadata": {},
     "outputs": []
    },
    {
     "cell_type": "markdown",
     "metadata": {},
     "source": [
      "##Saving to Files"
     ]
    },
    {
     "cell_type": "markdown",
     "metadata": {},
     "source": [
      "\n",
      "`.saveAsTextFile()` saves an RDD as a string. there is also `.saveAsPickleFile()`.\n",
      "\n",
      "`.rsaveAsNewAPIHadoopDataset()` saves an RDD object to HDFS."
     ]
    },
    {
     "cell_type": "markdown",
     "metadata": {},
     "source": [
      "##Reading inputs from S3 and counting the words\n",
      "#\n"
     ]
    },
    {
     "cell_type": "code",
     "collapsed": false,
     "input": [
      "#text = sc.textFile(\"s3://YOUR_S3_BUCKET/austen-sense.txt\")\n",
      "\n",
      "text=sc.textFile(\"austen-sense.txt\")\n",
      "\n",
      "\n",
      "\n"
     ],
     "language": "python",
     "metadata": {},
     "outputs": []
    },
    {
     "cell_type": "code",
     "collapsed": false,
     "input": [
      "lines\t=\tsc.textFile(\"mytext\",\t5)\t\n",
      "comments\t=\tlines.filter(myFunc)\t\n",
      "print\tlines.count()\n",
      "print   comments.count()\t"
     ],
     "language": "python",
     "metadata": {},
     "outputs": []
    },
    {
     "cell_type": "markdown",
     "metadata": {},
     "source": [
      "## How to solve this problem?"
     ]
    },
    {
     "cell_type": "code",
     "collapsed": false,
     "input": [
      "lines\t=\tsc.textFile(\"mytext\",\t5)\t\n",
      "lines.cache()\t#\tsave,\tdon't\trecompute!\t\n",
      "comments\t=\tlines.filter(myFunc)\t\n",
      "print\tlines.count(),comments.count()\t"
     ],
     "language": "python",
     "metadata": {},
     "outputs": []
    },
    {
     "cell_type": "markdown",
     "metadata": {},
     "source": [
      "Spark Program Lifecycle\n",
      "1. Create RDDs from external data or parallelize a\n",
      "collection in your driver program\n",
      "2. Lazily transform them into new RDDs\n",
      "3. cache() some RDDs for reuse\n",
      "4. Perform actions to execute parallel\n",
      "computation and produce results"
     ]
    },
    {
     "cell_type": "markdown",
     "metadata": {},
     "source": []
    },
    {
     "cell_type": "code",
     "collapsed": false,
     "input": [
      "words = text.flatMap(lambda line: line.split()) \\\n",
      "            .map(lambda word: word.lower())"
     ],
     "language": "python",
     "metadata": {},
     "outputs": []
    },
    {
     "cell_type": "code",
     "collapsed": false,
     "input": [
      "words.take(10)"
     ],
     "language": "python",
     "metadata": {},
     "outputs": []
    },
    {
     "cell_type": "code",
     "collapsed": false,
     "input": [
      "mapw=words.map(lambda word: (word, 1))\n",
      "               "
     ],
     "language": "python",
     "metadata": {},
     "outputs": []
    },
    {
     "cell_type": "code",
     "collapsed": false,
     "input": [
      "mapw.take(3)"
     ],
     "language": "python",
     "metadata": {},
     "outputs": []
    },
    {
     "cell_type": "code",
     "collapsed": false,
     "input": [
      "count=mapw.reduceByKey(lambda x,y: x + y)"
     ],
     "language": "python",
     "metadata": {},
     "outputs": []
    },
    {
     "cell_type": "code",
     "collapsed": false,
     "input": [
      "count.take(3)"
     ],
     "language": "python",
     "metadata": {},
     "outputs": []
    },
    {
     "cell_type": "code",
     "collapsed": false,
     "input": [
      "def wordcounts(words_rdd):\n",
      "    return words_rdd.map(lambda word: (word, 1)) \\\n",
      "                .reduceByKey(lambda x,y: x + y) \\\n",
      "                .sortByKey(False)\n",
      "                #.map(lambda (word, count): (count, word)) \\"
     ],
     "language": "python",
     "metadata": {},
     "outputs": []
    },
    {
     "cell_type": "code",
     "collapsed": false,
     "input": [
      "wordcounts(words).take(10)"
     ],
     "language": "python",
     "metadata": {},
     "outputs": []
    },
    {
     "cell_type": "code",
     "collapsed": false,
     "input": [],
     "language": "python",
     "metadata": {},
     "outputs": []
    },
    {
     "cell_type": "code",
     "collapsed": false,
     "input": [
      "sc"
     ],
     "language": "python",
     "metadata": {},
     "outputs": []
    },
    {
     "cell_type": "code",
     "collapsed": false,
     "input": [],
     "language": "python",
     "metadata": {},
     "outputs": []
    },
    {
     "cell_type": "markdown",
     "metadata": {},
     "source": [
      "##How do I write a program that uses Spark"
     ]
    },
    {
     "cell_type": "code",
     "collapsed": false,
     "input": [
      "from pyspark import SparkContext, SparkConf\n",
      "\n",
      "#Optional Config\n",
      "ProgramName=\"Myp\"\n",
      "master=\"local\"\n",
      "config = SparkConf().setAppName(ProgramName).setMaster(master)\n",
      "\n",
      "\n",
      "sc = SparkContext(conf=config)"
     ],
     "language": "python",
     "metadata": {},
     "outputs": []
    },
    {
     "cell_type": "code",
     "collapsed": false,
     "input": [
      "!cat student.py"
     ],
     "language": "python",
     "metadata": {},
     "outputs": []
    },
    {
     "cell_type": "code",
     "collapsed": false,
     "input": [
      "./pyspark --py-files student.py"
     ],
     "language": "python",
     "metadata": {},
     "outputs": []
    },
    {
     "cell_type": "code",
     "collapsed": false,
     "input": [
      "sc"
     ],
     "language": "python",
     "metadata": {},
     "outputs": []
    },
    {
     "cell_type": "code",
     "collapsed": false,
     "input": [
      "import student"
     ],
     "language": "python",
     "metadata": {},
     "outputs": []
    },
    {
     "cell_type": "code",
     "collapsed": false,
     "input": [
      "!cat records.txt"
     ],
     "language": "python",
     "metadata": {},
     "outputs": []
    },
    {
     "cell_type": "code",
     "collapsed": false,
     "input": [
      "students=sc.textFile(\"records.txt\")"
     ],
     "language": "python",
     "metadata": {},
     "outputs": []
    },
    {
     "cell_type": "code",
     "collapsed": false,
     "input": [
      "students.take(10)"
     ],
     "language": "python",
     "metadata": {},
     "outputs": []
    },
    {
     "cell_type": "code",
     "collapsed": false,
     "input": [
      "students=sc.textFile(\"records.txt\").map(lambda rec: student.Student().parse(rec))"
     ],
     "language": "python",
     "metadata": {},
     "outputs": []
    },
    {
     "cell_type": "code",
     "collapsed": false,
     "input": [
      "students.first()"
     ],
     "language": "python",
     "metadata": {},
     "outputs": []
    },
    {
     "cell_type": "code",
     "collapsed": false,
     "input": [
      "P_Group=students.map(lambda p: (p.program,1)).reduceByKey(lambda x,y: x + y)"
     ],
     "language": "python",
     "metadata": {},
     "outputs": []
    },
    {
     "cell_type": "code",
     "collapsed": false,
     "input": [
      "P_Group.collect()"
     ],
     "language": "python",
     "metadata": {},
     "outputs": []
    },
    {
     "cell_type": "code",
     "collapsed": false,
     "input": [],
     "language": "python",
     "metadata": {},
     "outputs": []
    },
    {
     "cell_type": "markdown",
     "metadata": {},
     "source": [
      "#Joins#: Gets 2 RDDs (k,v1),(k,v2) and create a joined RDD (k,(v1,v2))"
     ]
    },
    {
     "cell_type": "code",
     "collapsed": false,
     "input": [
      "students_courses=[(\"Alex\",\"w205\"),(\"Mike\",\"info290\"),(\"Ross\",\"w205\")]"
     ],
     "language": "python",
     "metadata": {},
     "outputs": []
    },
    {
     "cell_type": "code",
     "collapsed": false,
     "input": [
      "program_rec=[(\"Alex\",\"MIDS\"),(\"Mike\",\"MIMS\"),(\"Ross\",\"MIDS\")]"
     ],
     "language": "python",
     "metadata": {},
     "outputs": []
    },
    {
     "cell_type": "code",
     "collapsed": false,
     "input": [
      "SC_rdd=sc.parallelize(students_courses)"
     ],
     "language": "python",
     "metadata": {},
     "outputs": []
    },
    {
     "cell_type": "code",
     "collapsed": false,
     "input": [
      "P_rdd=sc.parallelize(program_rec)"
     ],
     "language": "python",
     "metadata": {},
     "outputs": []
    },
    {
     "cell_type": "code",
     "collapsed": false,
     "input": [
      "Comp_rec=SC_rdd.join(P_rdd)\n"
     ],
     "language": "python",
     "metadata": {},
     "outputs": []
    },
    {
     "cell_type": "code",
     "collapsed": false,
     "input": [
      "Comp_rec.collect()"
     ],
     "language": "python",
     "metadata": {},
     "outputs": []
    },
    {
     "cell_type": "code",
     "collapsed": false,
     "input": [],
     "language": "python",
     "metadata": {},
     "outputs": []
    },
    {
     "cell_type": "markdown",
     "metadata": {},
     "source": [
      "## DataTables: RDDs with Schema\n",
      "\n",
      "-Similar to Tables in SQL\n",
      "\n",
      "-Are python objects without methods that you can have access to field\n",
      "\n",
      "-All rows in DataTables should have the same types such as JSON objects with the same fields (opposite to RDDs)\n",
      "Could have rows with null or arrays\n",
      "\n",
      "\n",
      "-The schema can be from semi-structured files such as JSONs but you can enforce a schema if you do not have it in the input.\n",
      "\n",
      "-No code translation. Most of its codes are executed in Scala and you do not pay the perfromace overhead that pyspark has excpet the small initial requests/getting the results- -There is query optimizer that you can use which does not use the python interface-no overhead except for showing the results\n",
      "\n"
     ]
    },
    {
     "cell_type": "code",
     "collapsed": false,
     "input": [
      "!cat records.json"
     ],
     "language": "python",
     "metadata": {},
     "outputs": []
    },
    {
     "cell_type": "code",
     "collapsed": false,
     "input": [
      "students=sqlCtx.jsonFile(\"records.json\")\n",
      "\n"
     ],
     "language": "python",
     "metadata": {},
     "outputs": []
    },
    {
     "cell_type": "markdown",
     "metadata": {},
     "source": [
      "#Generates some folders and files to keep track of schemas,..."
     ]
    },
    {
     "cell_type": "markdown",
     "metadata": {},
     "source": [
      "##students is an RDD and you can do all the stuff that you did with RDDs but.."
     ]
    },
    {
     "cell_type": "code",
     "collapsed": false,
     "input": [
      "students.show()  #the first 20 rows in the context"
     ],
     "language": "python",
     "metadata": {},
     "outputs": []
    },
    {
     "cell_type": "code",
     "collapsed": false,
     "input": [
      "students.select('program').show()"
     ],
     "language": "python",
     "metadata": {},
     "outputs": []
    },
    {
     "cell_type": "code",
     "collapsed": false,
     "input": [
      "students.select(students.program).show()"
     ],
     "language": "python",
     "metadata": {},
     "outputs": []
    },
    {
     "cell_type": "code",
     "collapsed": false,
     "input": [
      "students.filter(students.age > 27).show()"
     ],
     "language": "python",
     "metadata": {},
     "outputs": []
    },
    {
     "cell_type": "markdown",
     "metadata": {},
     "source": [
      "##Since it uses a variation of DataFrame"
     ]
    },
    {
     "cell_type": "code",
     "collapsed": false,
     "input": [
      "students[students.program == 'MIDS'].show()"
     ],
     "language": "python",
     "metadata": {},
     "outputs": []
    },
    {
     "cell_type": "code",
     "collapsed": false,
     "input": [
      "students.groupBy(students.program).count().show()"
     ],
     "language": "python",
     "metadata": {},
     "outputs": []
    },
    {
     "cell_type": "code",
     "collapsed": false,
     "input": [
      "students.groupBy(students.program).avg('age').show()"
     ],
     "language": "python",
     "metadata": {},
     "outputs": []
    },
    {
     "cell_type": "code",
     "collapsed": false,
     "input": [],
     "language": "python",
     "metadata": {},
     "outputs": []
    },
    {
     "cell_type": "code",
     "collapsed": false,
     "input": [],
     "language": "python",
     "metadata": {},
     "outputs": []
    },
    {
     "cell_type": "markdown",
     "metadata": {},
     "source": [
      "#Like SQL more? You can run SQL in Spark"
     ]
    },
    {
     "cell_type": "code",
     "collapsed": false,
     "input": [
      "students.registerTempTable(\"st\")"
     ],
     "language": "python",
     "metadata": {},
     "outputs": []
    },
    {
     "cell_type": "code",
     "collapsed": false,
     "input": [
      "sqlCtx.sql(\"select name, program FROM st\").show()"
     ],
     "language": "python",
     "metadata": {},
     "outputs": []
    },
    {
     "cell_type": "code",
     "collapsed": false,
     "input": [],
     "language": "python",
     "metadata": {},
     "outputs": []
    },
    {
     "cell_type": "code",
     "collapsed": false,
     "input": [
      "sqlCtx.sql(\"select program,avg(age) AS AverageAge FROM st GROUP BY program\").show()\n"
     ],
     "language": "python",
     "metadata": {},
     "outputs": []
    },
    {
     "cell_type": "code",
     "collapsed": false,
     "input": [],
     "language": "python",
     "metadata": {},
     "outputs": []
    },
    {
     "cell_type": "code",
     "collapsed": false,
     "input": [
      "from pyspark.sql import functions as funcs\n",
      "\n",
      "AvgMin=students.groupBy('program').agg(funcs.avg('age').alias('AverageAge '),funcs.max('age').alias('MaximumAge'))\n",
      "\n",
      "AvgMin.show()"
     ],
     "language": "python",
     "metadata": {},
     "outputs": []
    },
    {
     "cell_type": "code",
     "collapsed": false,
     "input": [],
     "language": "python",
     "metadata": {},
     "outputs": []
    },
    {
     "cell_type": "markdown",
     "metadata": {},
     "source": [
      "#How the queries are optimized"
     ]
    },
    {
     "cell_type": "code",
     "collapsed": false,
     "input": [
      "sqlCtx.sql(\"select name, program FROM st\").explain()"
     ],
     "language": "python",
     "metadata": {},
     "outputs": []
    },
    {
     "cell_type": "code",
     "collapsed": false,
     "input": [],
     "language": "python",
     "metadata": {},
     "outputs": []
    },
    {
     "cell_type": "code",
     "collapsed": false,
     "input": [],
     "language": "python",
     "metadata": {},
     "outputs": []
    }
   ],
   "metadata": {}
  }
 ]
}